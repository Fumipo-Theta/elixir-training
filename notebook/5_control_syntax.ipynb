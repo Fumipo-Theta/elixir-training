{
 "cells": [
  {
   "cell_type": "code",
   "execution_count": null,
   "id": "treated-cheat",
   "metadata": {},
   "outputs": [],
   "source": [
    "# 制御構文\n",
    "\n",
    "Elixirでも手続き型言語と同様、条件分岐や例外処理のような制御構文がある。\n",
    "\n",
    "ただし、実際にはパターンマッチという強力な仕組みを使うことで"
   ]
  }
 ],
 "metadata": {
  "kernelspec": {
   "display_name": "Elixir",
   "language": "Elixir",
   "name": "ielixir"
  },
  "language_info": {
   "codemirror_mode": "elixir",
   "file_extension": "ex",
   "mimetype": "text/x-elixir",
   "name": "elixir",
   "nbconvert_exporter": "",
   "pygments_lexer": "elixir",
   "version": "1.11.2"
  }
 },
 "nbformat": 4,
 "nbformat_minor": 5
}
