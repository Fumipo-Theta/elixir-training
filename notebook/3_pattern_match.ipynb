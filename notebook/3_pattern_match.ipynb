{
 "cells": [
  {
   "cell_type": "markdown",
   "id": "complicated-fetish",
   "metadata": {},
   "source": [
    "# パターンマッチ"
   ]
  }
 ],
 "metadata": {
  "kernelspec": {
   "display_name": "Elixir",
   "language": "Elixir",
   "name": "ielixir"
  },
  "language_info": {
   "codemirror_mode": "elixir",
   "file_extension": "ex",
   "mimetype": "text/x-elixir",
   "name": "elixir",
   "nbconvert_exporter": "",
   "pygments_lexer": "elixir",
   "version": "1.11.2"
  }
 },
 "nbformat": 4,
 "nbformat_minor": 5
}
