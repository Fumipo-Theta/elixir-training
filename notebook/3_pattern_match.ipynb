{
 "cells": [
  {
   "cell_type": "markdown",
   "id": "visible-aurora",
   "metadata": {},
   "source": [
    "# パターンマッチ\n",
    "\n",
    "- Elixirの強力な構文\n",
    "- Elixirにおける`=`演算子はマッチ演算子と呼ばれ、手続き型の言語の代入演算子とは概念が異なる"
   ]
  },
  {
   "cell_type": "markdown",
   "id": "expressed-asian",
   "metadata": {},
   "source": [
    "## マッチ演算子\n",
    "\n",
    "- Elixirでは`=`はマッチ演算子であり、代入演算子ではない"
   ]
  },
  {
   "cell_type": "code",
   "execution_count": null,
   "id": "pointed-messaging",
   "metadata": {},
   "outputs": [],
   "source": [
    "# 一番最初の時点ではxは定義されていないし、何の値にも束縛されていない\n",
    "IO.puts x \n",
    "# => (CompileError) console:2 \"undefined function x/0\""
   ]
  },
  {
   "cell_type": "code",
   "execution_count": null,
   "id": "central-leave",
   "metadata": {},
   "outputs": [],
   "source": [
    "x = 0\n",
    "y = x\n",
    "y = 1\n",
    "\n",
    "# 以下では何が出力されるか, 予測して実行してみよう\n",
    "[\n",
    "  x != y,\n",
    "  x,\n",
    "  y\n",
    "]\n",
    "|> Enum.map(&IO.inspect/1)"
   ]
  },
  {
   "cell_type": "code",
   "execution_count": null,
   "id": "valued-interface",
   "metadata": {},
   "outputs": [],
   "source": [
    "x = 0\n",
    "0 = x # xは0で束縛されているのでマッチが成功"
   ]
  },
  {
   "cell_type": "code",
   "execution_count": null,
   "id": "biblical-concrete",
   "metadata": {},
   "outputs": [],
   "source": [
    "x = 0\n",
    "1 = x # => %MatchError{term: 0} xは既に0に束縛されているので、1とはマッチしない"
   ]
  },
  {
   "cell_type": "markdown",
   "id": "relative-miracle",
   "metadata": {},
   "source": [
    "### Listに対するパターンマッチ"
   ]
  },
  {
   "cell_type": "code",
   "execution_count": null,
   "id": "cultural-reception",
   "metadata": {},
   "outputs": [],
   "source": [
    "# 要素が全て等しいのでマッチが成功\n",
    "\n",
    "l = [0, 1, 2, 3]\n",
    "[0, 1, 2, 3] = l"
   ]
  },
  {
   "cell_type": "code",
   "execution_count": null,
   "id": "english-water",
   "metadata": {},
   "outputs": [],
   "source": [
    "# 変数が含まれる場合、右辺にマッチするよう値が束縛される\n",
    "[a, b, c, d] = [0, 1, 2, 3]\n",
    "\n",
    "[a, b, c, d]\n",
    "|> Enum.map(&IO.inspect/1)"
   ]
  },
  {
   "cell_type": "code",
   "execution_count": null,
   "id": "italian-occasion",
   "metadata": {},
   "outputs": [],
   "source": [
    "# 右辺が変数を含む場合、変数が束縛されている値にマッチする\n",
    "x = 10\n",
    "y = 20\n",
    "[a, b, c, d] = [0, x, 2, y]\n",
    "\n",
    "[a, b, c, d]\n",
    "|> Enum.map(&IO.inspect/1)"
   ]
  },
  {
   "cell_type": "markdown",
   "id": "conscious-portrait",
   "metadata": {},
   "source": [
    "Listに対するパターンマッチでは特有のマッチ記法がある。\n",
    "\n",
    "`[a | b]` の `a` はリストの先頭、`b` は先頭以外の全てにマッチする。"
   ]
  },
  {
   "cell_type": "code",
   "execution_count": null,
   "id": "supreme-luther",
   "metadata": {},
   "outputs": [],
   "source": [
    "[head | tail] = [0, 1, 2, 3, 4]\n",
    "\n",
    "[head, tail]\n",
    "|> Enum.map(&IO.inspect/1)"
   ]
  },
  {
   "cell_type": "code",
   "execution_count": null,
   "id": "governmental-treasury",
   "metadata": {},
   "outputs": [],
   "source": [
    "[head | tail] = [0]\n",
    "\n",
    "[head, tail]\n",
    "|> Enum.map(&IO.inspect/1)"
   ]
  },
  {
   "cell_type": "code",
   "execution_count": null,
   "id": "burning-producer",
   "metadata": {},
   "outputs": [],
   "source": [
    "[head | tail] = []\n",
    "# => %MatchError{term: []}"
   ]
  },
  {
   "cell_type": "markdown",
   "id": "third-rouge",
   "metadata": {},
   "source": [
    "先頭から$n$個の要素に対してマッチすることも可能。\n",
    "\n",
    "反対に、最後から$n$個のマッチは不可能。"
   ]
  },
  {
   "cell_type": "code",
   "execution_count": null,
   "id": "dressed-hudson",
   "metadata": {},
   "outputs": [],
   "source": [
    "[first, second | tail] = [0, 1, 2, 3, 4]\n",
    "\n",
    "[first, second, tail]\n",
    "|> Enum.map(&IO.inspect/1)"
   ]
  },
  {
   "cell_type": "code",
   "execution_count": null,
   "id": "maritime-athens",
   "metadata": {},
   "outputs": [],
   "source": [
    "[head | last_one_before, last] = [0, 1, 2] # => CompileError"
   ]
  },
  {
   "cell_type": "markdown",
   "id": "actual-sugar",
   "metadata": {},
   "source": [
    "### Mapに対するパターンマッチ\n",
    "\n",
    "- 左辺は右辺のサブセットであればいい\n",
    "- ネストしたマップにもパターンマッチ可能"
   ]
  },
  {
   "cell_type": "code",
   "execution_count": null,
   "id": "innocent-kinase",
   "metadata": {},
   "outputs": [],
   "source": [
    "%{x: x} = %{x: 0, y: 1, z: 2}\n",
    "IO.inspect x"
   ]
  },
  {
   "cell_type": "code",
   "execution_count": null,
   "id": "known-quick",
   "metadata": {},
   "outputs": [],
   "source": [
    "%{:x => x} = %{x: 0, y: 1, z: 2}\n",
    "IO.inspect x"
   ]
  },
  {
   "cell_type": "code",
   "execution_count": null,
   "id": "breathing-fellowship",
   "metadata": {},
   "outputs": [],
   "source": [
    "%{no_key: value} = %{x: 0, y: 1, z: 2}"
   ]
  },
  {
   "cell_type": "code",
   "execution_count": null,
   "id": "broadband-timing",
   "metadata": {},
   "outputs": [],
   "source": [
    "nested_map = %{\n",
    "  outer_universe: %{\n",
    "    universe: %{\n",
    "      hello: \"universe!\",\n",
    "      answer_of_everything: 42\n",
    "    }\n",
    "  }\n",
    "}\n",
    "\n",
    "%{outer_universe: %{universe: %{hello: target}}} = nested_map\n",
    "IO.inspect target\n",
    "\n",
    "# マッチ演算子をネストさせることもできる\n",
    "%{\n",
    "  outer_universe: %{\n",
    "    universe: %{\n",
    "      answer_of_everything: the_answer\n",
    "    } = universe\n",
    "  }\n",
    "} = nested_map\n",
    "\n",
    "IO.inspect universe\n",
    "IO.inspect the_answer"
   ]
  },
  {
   "cell_type": "code",
   "execution_count": null,
   "id": "nominated-warren",
   "metadata": {},
   "outputs": [],
   "source": [
    "food_collection = %{\n",
    "  red: %{\n",
    "    meet: [\"beef\", \"pork\", \"chicken\", \"mutton\"]\n",
    "  },\n",
    "  green: %{\n",
    "    vegitable: [\"tomato\", \"carrot\"],\n",
    "    fruite: [\"apple\", \"banana\", \"orange\"]\n",
    "  },\n",
    "  yellow: %{\n",
    "    fat: [\"oil\", \"het\", \"rard\"],\n",
    "    carbohydrate: [\"rice\", \"bread\"]\n",
    "  }\n",
    "}\n",
    "\n",
    "# try to extract and output meet list\n",
    "\n",
    "# try to extract banana\n",
    "\n",
    "# try to extract oil and yellow map at once"
   ]
  },
  {
   "cell_type": "markdown",
   "id": "naked-check",
   "metadata": {},
   "source": [
    "### pin演算子\n",
    "\n",
    "- 変数は通常、別の値にマッチさせると新しい値に束縛される\n",
    "- pin演算子を使うと、変数が束縛されている値に対してマッチするか試すことができる"
   ]
  },
  {
   "cell_type": "code",
   "execution_count": null,
   "id": "intelligent-female",
   "metadata": {},
   "outputs": [],
   "source": [
    "assistants = [\n",
    "  %{name: \"Alexa\",  listen: \"Hello\"},\n",
    "  %{name: \"Siri\",   listen: \"Hey\"},\n",
    "  %{name: \"Google\", listen: \"OK\"},\n",
    "]\n",
    "\n",
    "your_message = \"Hey\"\n",
    "Enum.each(assistants, fn %{name: name} = assistant -> \n",
    "  IO.puts \"#{your_message}, #{name}!\"\n",
    "  case assistant do\n",
    "    %{listen: your_message} -> IO.puts \"#{name} responds to your #{your_message}\"\n",
    "    _                       -> IO.puts \"Nothing happens...\"\n",
    "  end\n",
    "end)\n"
   ]
  },
  {
   "cell_type": "code",
   "execution_count": null,
   "id": "reflected-senator",
   "metadata": {},
   "outputs": [],
   "source": [
    "assistants = [\n",
    "  %{name: \"Alexa\",  listen: \"Hello\"},\n",
    "  %{name: \"Siri\",   listen: \"Hey\"},\n",
    "  %{name: \"Google\", listen: \"OK\"},\n",
    "]\n",
    "\n",
    "your_message = \"Hey\"\n",
    "Enum.each(assistants, fn %{name: name} = assistant -> \n",
    "  IO.puts \"#{your_message}, #{name}!\"\n",
    "  case assistant do\n",
    "    %{listen: ^your_message} -> IO.puts \"#{name} responds to your #{your_message}\"\n",
    "    _                        -> IO.puts \"Nothing happens...\"\n",
    "  end\n",
    "end)"
   ]
  },
  {
   "cell_type": "code",
   "execution_count": null,
   "id": "improving-repeat",
   "metadata": {},
   "outputs": [],
   "source": []
  }
 ],
 "metadata": {
  "kernelspec": {
   "display_name": "Elixir",
   "language": "Elixir",
   "name": "ielixir"
  },
  "language_info": {
   "codemirror_mode": "elixir",
   "file_extension": "ex",
   "mimetype": "text/x-elixir",
   "name": "elixir",
   "nbconvert_exporter": "",
   "pygments_lexer": "elixir",
   "version": "1.11.2"
  }
 },
 "nbformat": 4,
 "nbformat_minor": 5
}
