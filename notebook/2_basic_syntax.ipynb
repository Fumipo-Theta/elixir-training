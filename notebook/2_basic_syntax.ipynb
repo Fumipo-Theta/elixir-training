{
 "cells": [
  {
   "cell_type": "markdown",
   "id": "hundred-darkness",
   "metadata": {},
   "source": [
    "# 基本的な文法"
   ]
  },
  {
   "cell_type": "markdown",
   "id": "right-killer",
   "metadata": {},
   "source": [
    "## 基本的な値\n",
    "\n",
    "Elixirは動的型付け言語ですが, 内部的には型が存在します。\n",
    "\n",
    "[基本的な型](https://elixir-lang.org/getting-started/basic-types.html)は以下。\n",
    "\n",
    "- Integer\n",
    "- Float\n",
    "- Boolean\n",
    "- String\n",
    "- List\n",
    "- Tuple\n",
    "- Atom\n",
    "- Anonymous function\n",
    "- Port\n",
    "- Reference\n",
    "- PID"
   ]
  },
  {
   "cell_type": "code",
   "execution_count": null,
   "id": "appointed-columbus",
   "metadata": {},
   "outputs": [],
   "source": [
    "# integer\n",
    "IO.inspect 1\n",
    "IO.inspect 0x01 # 16進数"
   ]
  },
  {
   "cell_type": "code",
   "execution_count": null,
   "id": "precise-commonwealth",
   "metadata": {},
   "outputs": [],
   "source": [
    "# float\n",
    "IO.inspect 1.0\n",
    "IO.inspect 1.0e+3"
   ]
  },
  {
   "cell_type": "code",
   "execution_count": null,
   "id": "designed-charm",
   "metadata": {},
   "outputs": [],
   "source": [
    "# boolean\n",
    "IO.inspect true\n",
    "IO.inspect false"
   ]
  },
  {
   "cell_type": "code",
   "execution_count": null,
   "id": "demographic-wilderness",
   "metadata": {},
   "outputs": [],
   "source": [
    "# string\n",
    "IO.inspect \"abcABC\"\n",
    "IO.inspect \"マルチバイト文字列\""
   ]
  },
  {
   "cell_type": "markdown",
   "id": "upper-going",
   "metadata": {},
   "source": [
    "### List (linked list)\n",
    "\n",
    "- 値が0個以上あることを表現する\n",
    "- 要素の型はどんな組み合わせでもいい\n",
    "- 要素数が動的に増減する場合に使用する\n",
    "- 内部実装はlinked list"
   ]
  },
  {
   "cell_type": "code",
   "execution_count": null,
   "id": "charming-complement",
   "metadata": {},
   "outputs": [],
   "source": [
    "# list\n",
    "\n",
    "IO.inspect [0, \"a\", true, [0, 1, 2]]\n",
    "\n",
    "l = [0, 1, 2]\n",
    "IO.inspect l\n",
    "\n",
    "try do\n",
    "  IO.inspect l[0]\n",
    "rescue\n",
    "  ArgumentError -> IO.inspect \"Access to an item by index failed\"\n",
    "end"
   ]
  },
  {
   "cell_type": "markdown",
   "id": "variable-testimony",
   "metadata": {},
   "source": [
    "Listに関係して、Elixirには文字を取り扱う方法が2つあり、それらは明確に異なる。\n",
    "- ダブルクォーテーション`\"`を使う場合 => 文字列\n",
    "- シングルクォーテーション`'`を使う場合 => 文字のリスト\n",
    "\n",
    "基本的にはダブルクォーテーションを使うのでいいが、"
   ]
  },
  {
   "cell_type": "code",
   "execution_count": null,
   "id": "primary-convertible",
   "metadata": {},
   "outputs": [],
   "source": [
    "# コードポイントのリスト\n",
    "IO.puts 'ABC'\n",
    "IO.puts [65, 66, 67]\n",
    "IO.puts 'ABC' == [65, 66, 67]\n",
    "\n",
    "# 文字列とは異なる型\n",
    "IO.puts \"ABC\" != 'ABC'"
   ]
  },
  {
   "cell_type": "markdown",
   "id": "simplified-persian",
   "metadata": {},
   "source": [
    "### Tuple\n",
    "\n",
    "- 複数の値を組み合わせた値\n",
    "- 中身の値の型はどんな組合せでも良い\n",
    "- 要素数はコンパイル時に確定する。動的に要素の追加や削除はできない\n",
    "- プログラマが何らかの「意味のある値の組合せ」を表現するために使われることが多い\n",
    "  - floatの組で「座標」を表現する\n",
    "  - `:ok`, `:error`との組で処理の「成功」または「失敗」を表す"
   ]
  },
  {
   "cell_type": "code",
   "execution_count": null,
   "id": "virtual-richardson",
   "metadata": {},
   "outputs": [],
   "source": [
    "# tuple\n",
    "IO.inspect {0, 1, 2}\n",
    "\n",
    "IO.inspect File.read(\"./resources/2/hello.txt\")\n",
    "IO.inspect File.read(\"./resource/not/found\")"
   ]
  },
  {
   "cell_type": "markdown",
   "id": "rotary-stevens",
   "metadata": {},
   "source": [
    "### Atom\n",
    "\n",
    "- `:`から始まる名前付きの値で, 実体がErlangVM上で**ただ1つ**\n",
    "- コンパイル時(コーディング時)に定まっている定数を表現するために使われることが多い\n",
    "- 実体がただ1つなので, 同じAtomをプログラム内の複数箇所で使っても値はコピーされず, 既存のAtomに対する参照のみが増える\n",
    "- 一度生成されたAtomはVMから**消えない**(Garbage Collect されない)\n",
    "  - メモリを使い尽くすことにつながる恐れがあるので, 動的にAtomを生成すべきではない\n",
    "  - コーディング時にAtomの使用をためらう必要はない"
   ]
  },
  {
   "cell_type": "code",
   "execution_count": null,
   "id": "needed-landing",
   "metadata": {},
   "outputs": [],
   "source": [
    "# atom\n",
    "IO.puts :atom\n",
    "\n",
    "IO.puts :atom == :atom\n",
    "IO.puts :atom != :another\n",
    "\n",
    "# booleanのtrueやfalse, 値がないことを示すnilも実際にはatomとして定義されています\n",
    "IO.puts true == :true\n",
    "IO.puts nil == :nil"
   ]
  },
  {
   "cell_type": "markdown",
   "id": "adjacent-roller",
   "metadata": {},
   "source": [
    "### Anonymous functions\n",
    "\n",
    "- Elixirの関数は2種類\n",
    "  - モジュール(module)に属する必要がある名前付き関数(named function)\n",
    "  - コードのどこにでも書ける無名関数(anonymous function)\n",
    "  \n",
    "- 無名関数の定義方法\n",
    "  - 基本\n",
    "    - `fn (`args`) -> `return value` end`\n",
    "  - 引数の括弧は省略可能\n",
    "    - `fn `args` -> `return value` end`\n",
    "- 無名関数は, 内部的には定義時に返る`#Function<43.97283095/2 in :erl_eval.expr/5>`のようなハッシュで識別されている"
   ]
  },
  {
   "cell_type": "code",
   "execution_count": null,
   "id": "determined-figure",
   "metadata": {},
   "outputs": [],
   "source": [
    "fn (a, b) -> a + b end"
   ]
  },
  {
   "cell_type": "markdown",
   "id": "worthy-supervision",
   "metadata": {},
   "source": [
    "- 無名関数を変数に束縛できる\n",
    "- 無名関数の呼び出し時は, `add.(1, 2)`のように`.()`とカッコの前にピリオドが必要\n",
    "  - 名前付き関数呼び出しの`()`が省略できる仕様との間で曖昧さを回避するため\n",
    "  - `IO.puts \"hello\"`は`IO` moduleの名前付き関数`puts`を呼び出しているので括弧を省略できている\n",
    "  - 丁寧に書くと`IO.puts(\"hello\")`"
   ]
  },
  {
   "cell_type": "code",
   "execution_count": null,
   "id": "extreme-employment",
   "metadata": {},
   "outputs": [],
   "source": [
    "add = fn (a, b) -> a + b end\n",
    "mul = fn a, b -> a * b end\n",
    "\n",
    "IO.puts add.(1, 2)\n",
    "IO.puts mul.(3, 2)"
   ]
  },
  {
   "cell_type": "markdown",
   "id": "ready-charge",
   "metadata": {},
   "source": [
    "- 引数名を省略する記法もある\n",
    "  - `&()`で囲み, `&1`, `&2`, ... で第1引数から順に参照する\n",
    "  - 後述の高階関数に単純な関数を与える際などに使うことがある"
   ]
  },
  {
   "cell_type": "code",
   "execution_count": null,
   "id": "christian-idaho",
   "metadata": {},
   "outputs": [],
   "source": [
    "add_short = &(&1 + &2)\n",
    "IO.puts add_short.(1, 2)"
   ]
  },
  {
   "cell_type": "markdown",
   "id": "weighted-graphic",
   "metadata": {},
   "source": [
    "- 式を複数持つ無名関数を定義することもできる\n",
    "  - 関数内の最後の式の値のみが返り値になる"
   ]
  },
  {
   "cell_type": "code",
   "execution_count": null,
   "id": "tropical-authentication",
   "metadata": {},
   "outputs": [],
   "source": [
    "verbose_add = fn (a, b) ->\n",
    "  IO.puts a\n",
    "  IO.puts b\n",
    "  a + b\n",
    "end\n",
    "\n",
    "verbose_add.(2, 3)"
   ]
  },
  {
   "cell_type": "markdown",
   "id": "israeli-retirement",
   "metadata": {},
   "source": [
    "#### おまけクイズ\n",
    "\n",
    "無名関数を変数に束縛せずに呼び出すことも可能。どうすればいいだろうか?\n",
    "他言語では即時関数と呼ばれている場合がある。"
   ]
  },
  {
   "cell_type": "code",
   "execution_count": null,
   "id": "developing-discussion",
   "metadata": {},
   "outputs": [],
   "source": [
    "# Q. 変数に束縛せず2つの値を引数にとってその和を返す関数を定義し, かつその場で無名関数を1と2に適用せよ。(返り値の期待値は3)\n"
   ]
  },
  {
   "cell_type": "markdown",
   "id": "covered-venezuela",
   "metadata": {},
   "source": [
    "### Map\n",
    "\n",
    "- keyとvalueの組\n",
    "- 他言語では辞書やオブジェクトと呼ばれる"
   ]
  },
  {
   "cell_type": "code",
   "execution_count": null,
   "id": "robust-despite",
   "metadata": {},
   "outputs": [],
   "source": [
    "m = %{\"key\" => \"value\", 0 => 1, :atom => :value}\n",
    "\n",
    "IO.puts m[\"key\"]\n",
    "IO.puts m[0]\n",
    "IO.puts m[:atom]"
   ]
  },
  {
   "cell_type": "markdown",
   "id": "enclosed-nutrition",
   "metadata": {},
   "source": [
    "- keyがatomのとき、省略記法が使える"
   ]
  },
  {
   "cell_type": "code",
   "execution_count": null,
   "id": "nearby-agent",
   "metadata": {},
   "outputs": [],
   "source": [
    "m = %{:a => 0, \"b\" => 1}\n",
    "IO.puts m.a\n",
    "IO.puts m[:a]\n",
    "IO.puts m[\"b\"]\n",
    "# IO.puts m.b # => KeyError\n",
    "\n",
    "IO.puts %{a: 0, b: \"b\", c: :value} == %{:a => 0, :b => \"b\", :c => :value}\n",
    "IO.puts %{a: 0} == %{\"a\" => 0}"
   ]
  },
  {
   "cell_type": "markdown",
   "id": "relative-student",
   "metadata": {},
   "source": [
    "## 演算子; Operators\n",
    "\n",
    "[Basic operators - Elixir](https://elixir-lang.org/getting-started/basic-operators.html)\n",
    "\n",
    "- 中置演算子\n",
    "  - すでに出ている`+`や`*`などの算術演算子\n",
    "  - リストの連結演算子 `++`\n",
    "  - 文字列の連結演算子 `<>`\n",
    "- 中置演算子も実体は関数\n",
    "  - ドキュメントでは`+/2`のように参照する"
   ]
  },
  {
   "cell_type": "code",
   "execution_count": null,
   "id": "better-profession",
   "metadata": {},
   "outputs": [],
   "source": [
    "1 + 2"
   ]
  },
  {
   "cell_type": "code",
   "execution_count": null,
   "id": "illegal-uncle",
   "metadata": {},
   "outputs": [],
   "source": [
    "[ 1, 2, 3] ++ [4, 5, 6]"
   ]
  },
  {
   "cell_type": "code",
   "execution_count": null,
   "id": "administrative-bahamas",
   "metadata": {},
   "outputs": [],
   "source": [
    "\"Hello\" <> \" world!\""
   ]
  }
 ],
 "metadata": {
  "kernelspec": {
   "display_name": "Elixir",
   "language": "Elixir",
   "name": "ielixir"
  },
  "language_info": {
   "codemirror_mode": "elixir",
   "file_extension": "ex",
   "mimetype": "text/x-elixir",
   "name": "elixir",
   "nbconvert_exporter": "",
   "pygments_lexer": "elixir",
   "version": "1.11.2"
  }
 },
 "nbformat": 4,
 "nbformat_minor": 5
}
