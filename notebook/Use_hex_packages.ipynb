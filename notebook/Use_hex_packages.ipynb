{
 "cells": [
  {
   "cell_type": "code",
   "execution_count": null,
   "id": "plastic-jacob",
   "metadata": {},
   "outputs": [],
   "source": [
    "Boyle.mk(\"training_env\")\n",
    "Boyle.activate(\"training_env\")"
   ]
  },
  {
   "cell_type": "code",
   "execution_count": null,
   "id": "fleet-surgeon",
   "metadata": {},
   "outputs": [],
   "source": [
    "# Boyle.install({:antikythera, \"~>0.4.0\"}) # Compile will be failed...\n",
    "# 1. Antikythera requires Erlang 20.3.8.26 and Elixir 1.9.4\n",
    "#    Compile of relx v3 is required but it will be failed with newer version of Erlang and Elixir\n",
    "# 2. Even if the condition above is satisfied, compilation of antikythera will be failed "
   ]
  },
  {
   "cell_type": "code",
   "execution_count": null,
   "id": "rapid-watson",
   "metadata": {},
   "outputs": [],
   "source": [
    "Boyle.install({:jason, \"1.2.2\"})"
   ]
  },
  {
   "cell_type": "code",
   "execution_count": null,
   "id": "tough-laser",
   "metadata": {},
   "outputs": [],
   "source": [
    "Jason.encode(%{a: 0})"
   ]
  },
  {
   "cell_type": "code",
   "execution_count": null,
   "id": "federal-pipeline",
   "metadata": {},
   "outputs": [],
   "source": [
    "Jason.module_info"
   ]
  },
  {
   "cell_type": "code",
   "execution_count": null,
   "id": "adult-produce",
   "metadata": {},
   "outputs": [],
   "source": [
    "Boyle.install({:croma, \"0.10.2\"})"
   ]
  },
  {
   "cell_type": "code",
   "execution_count": null,
   "id": "vocal-shoulder",
   "metadata": {},
   "outputs": [],
   "source": [
    "defmodule CromaTest do\n",
    "  use Croma.Struct, recursive_new?: true, fields: [\n",
    "    x: Croma.Integer\n",
    "  ]\n",
    "end"
   ]
  },
  {
   "cell_type": "code",
   "execution_count": null,
   "id": "radical-entry",
   "metadata": {},
   "outputs": [],
   "source": [
    "CromaTest.new(%{x: 0})"
   ]
  },
  {
   "cell_type": "code",
   "execution_count": null,
   "id": "square-stone",
   "metadata": {},
   "outputs": [],
   "source": [
    "CromaTest.new(%{x: 1.0})"
   ]
  },
  {
   "cell_type": "code",
   "execution_count": null,
   "id": "controlling-texture",
   "metadata": {},
   "outputs": [],
   "source": [
    "Boyle.install({:meck, \"0.9.2\"})"
   ]
  },
  {
   "cell_type": "code",
   "execution_count": null,
   "id": "liked-provincial",
   "metadata": {},
   "outputs": [],
   "source": [
    "defmodule Hoge do\n",
    "  # 引数が2つの関数を定義\n",
    "  def foo(x, y) do\n",
    "    x + y\n",
    "  end\n",
    "end\n",
    "\n",
    "Hoge.foo(1, 2)"
   ]
  },
  {
   "cell_type": "code",
   "execution_count": null,
   "id": "hungry-sequence",
   "metadata": {},
   "outputs": [],
   "source": [
    ":meck.new(Hoge, [:passthrough])\n"
   ]
  },
  {
   "cell_type": "code",
   "execution_count": null,
   "id": "heated-breakdown",
   "metadata": {},
   "outputs": [],
   "source": [
    ":meck.expect(Hoge, :foo, fn(x, y) -> x + y + 2 end)\n",
    "Hoge.foo(1, 2)"
   ]
  },
  {
   "cell_type": "code",
   "execution_count": null,
   "id": "buried-walter",
   "metadata": {},
   "outputs": [],
   "source": []
  }
 ],
 "metadata": {
  "kernelspec": {
   "display_name": "Elixir",
   "language": "Elixir",
   "name": "ielixir"
  },
  "language_info": {
   "codemirror_mode": "elixir",
   "file_extension": "ex",
   "mimetype": "text/x-elixir",
   "name": "elixir",
   "nbconvert_exporter": "",
   "pygments_lexer": "elixir",
   "version": "1.11.2"
  }
 },
 "nbformat": 4,
 "nbformat_minor": 5
}
