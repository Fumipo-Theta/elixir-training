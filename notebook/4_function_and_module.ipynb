{
 "cells": [
  {
   "cell_type": "markdown",
   "id": "former-integral",
   "metadata": {},
   "source": [
    "# Elixirの関数とモジュール\n",
    "\n",
    "Elixirは関数型言語で、関数は基本的な型の一つでもある。\n"
   ]
  },
  {
   "cell_type": "markdown",
   "id": "advised-commodity",
   "metadata": {},
   "source": [
    "### 無名関数\n",
    "\n",
    "モジュールに属さない関数。\n",
    "変数に束縛することで使い回すことができる。\n"
   ]
  },
  {
   "cell_type": "code",
   "execution_count": null,
   "id": "rolled-antibody",
   "metadata": {},
   "outputs": [],
   "source": [
    "fn x, y -> x + y end"
   ]
  },
  {
   "cell_type": "code",
   "execution_count": null,
   "id": "going-channel",
   "metadata": {},
   "outputs": [],
   "source": [
    "&(&1.(&2))"
   ]
  },
  {
   "cell_type": "markdown",
   "id": "moved-literature",
   "metadata": {},
   "source": [
    "## 高階関数\n",
    "\n",
    "引数に関数を取ったり、関数を返り値としたりする関数。"
   ]
  },
  {
   "cell_type": "code",
   "execution_count": null,
   "id": "sufficient-organization",
   "metadata": {},
   "outputs": [],
   "source": [
    "# 関数 f を受け取って, 2つの引数を f に適用する関数を返す関数\n",
    "my_apply2 = fn f -> \n",
    "  fn x, y -> f.(x, y) end \n",
    "end"
   ]
  },
  {
   "cell_type": "code",
   "execution_count": null,
   "id": "indian-queens",
   "metadata": {},
   "outputs": [],
   "source": [
    "# 和と積を計算する関数\n",
    "my_add = my_apply2.(&(&1 + &2))\n",
    "my_mul = my_apply2.(&(&1 * &2))"
   ]
  },
  {
   "cell_type": "code",
   "execution_count": null,
   "id": "atomic-fabric",
   "metadata": {},
   "outputs": [],
   "source": [
    "IO.inspect my_add.(6, 7)\n",
    "IO.inspect my_mul.(6, 7)"
   ]
  },
  {
   "cell_type": "markdown",
   "id": "phantom-offset",
   "metadata": {},
   "source": [
    "### モジュール\n",
    "\n",
    "Elixirでは関連する関数をグループ化してモジュールとして管理します．\n",
    "\n",
    "処理を行う対象となるデータごとにモジュールを分割する事が多いです\n",
    "\n",
    "- e.g.) 文字列を処理する`String`モジュールなど\n",
    "\n",
    "モジュールは階層化することができます"
   ]
  },
  {
   "cell_type": "code",
   "execution_count": null,
   "id": "forward-enforcement",
   "metadata": {},
   "outputs": [],
   "source": [
    "defmodule MyMath do\n",
    "  def add(x, y) do\n",
    "    x + y\n",
    "  end\n",
    "  \n",
    "  def multiple(x, y) do\n",
    "    x * y\n",
    "  end\n",
    "  \n",
    "  def get_add_and_multiple(x, y) do\n",
    "    show_args(x, y)\n",
    "    {add(x, y), multiple(x, y)}\n",
    "  end\n",
    "  \n",
    "  defp show_args(x, y) do\n",
    "    IO.inspect \"Called with x: #{x}, y: #{y}\"\n",
    "  end\n",
    "end"
   ]
  },
  {
   "cell_type": "code",
   "execution_count": null,
   "id": "suspected-mentor",
   "metadata": {},
   "outputs": [],
   "source": [
    "defmodule Universe do\n",
    "  defmodule Galaxy do\n",
    "    def \n",
    "  end\n",
    "end"
   ]
  },
  {
   "cell_type": "code",
   "execution_count": null,
   "id": "extensive-concrete",
   "metadata": {},
   "outputs": [],
   "source": [
    "MyMath.add(1, 2)"
   ]
  },
  {
   "cell_type": "code",
   "execution_count": null,
   "id": "continuous-increase",
   "metadata": {},
   "outputs": [],
   "source": [
    "MyMath.multiple(2, 3)"
   ]
  },
  {
   "cell_type": "code",
   "execution_count": null,
   "id": "cleared-nutrition",
   "metadata": {},
   "outputs": [],
   "source": [
    "MyMath.get_add_and_multiple(2, 3)"
   ]
  },
  {
   "cell_type": "code",
   "execution_count": null,
   "id": "acknowledged-snake",
   "metadata": {},
   "outputs": [],
   "source": [
    "MyMath.show_args(2, 3)\n",
    "# => %UndefinedFunctionError{arity: 2, function: :show_args, message: nil, module: MyMath, reason: nil}"
   ]
  },
  {
   "cell_type": "code",
   "execution_count": null,
   "id": "hourly-chapel",
   "metadata": {},
   "outputs": [],
   "source": [
    "MyMath.add 1, 2"
   ]
  },
  {
   "cell_type": "code",
   "execution_count": null,
   "id": "direct-scout",
   "metadata": {},
   "outputs": [],
   "source": [
    "defmodule MyModule.Vegitable.Apple do\n",
    "  def get_name() do\n",
    "    \"apple\"\n",
    "  end\n",
    "end\n",
    "\n",
    "defmodule MyModule.Vegitable.Banana do\n",
    "  def get_name() do\n",
    "    \"banana\"\n",
    "  end\n",
    "end"
   ]
  },
  {
   "cell_type": "code",
   "execution_count": 9,
   "id": "negative-fifteen",
   "metadata": {},
   "outputs": [
    {
     "name": "stdout",
     "output_type": "stream",
     "text": [
      "Succeeded\n",
      "Failed (No answer is found)\n",
      "Something wrong\n"
     ]
    },
    {
     "name": "stderr",
     "output_type": "stream",
     "text": [
      "warning: redefining module OverloadExample (current version defined in memory)\n",
      "  nofile:1\n",
      "\n"
     ]
    },
    {
     "data": {
      "text/plain": [
       ":ok"
      ]
     },
     "execution_count": 9,
     "metadata": {},
     "output_type": "execute_result"
    }
   ],
   "source": [
    "defmodule OverloadExample do\n",
    "  def ensure_success({:ok, _} = result) do\n",
    "    IO.puts \"Succeeded\"\n",
    "    result\n",
    "  end\n",
    "  def ensure_success({:error, message} = result) do\n",
    "    IO.puts \"Failed (#{message})\"\n",
    "    result\n",
    "  end\n",
    "  def ensure_success(_) do\n",
    "    IO.puts \"Something wrong\"\n",
    "  end\n",
    "end\n",
    "\n",
    "OverloadExample.ensure_success({:ok, 42})\n",
    "OverloadExample.ensure_success({:error, \"No answer is found\"})\n",
    "OverloadExample.ensure_success(:not_considered)"
   ]
  },
  {
   "cell_type": "code",
   "execution_count": null,
   "id": "liquid-consistency",
   "metadata": {},
   "outputs": [],
   "source": []
  }
 ],
 "metadata": {
  "kernelspec": {
   "display_name": "Elixir",
   "language": "Elixir",
   "name": "ielixir"
  },
  "language_info": {
   "codemirror_mode": "elixir",
   "file_extension": "ex",
   "mimetype": "text/x-elixir",
   "name": "elixir",
   "nbconvert_exporter": "",
   "pygments_lexer": "elixir",
   "version": "1.11.2"
  }
 },
 "nbformat": 4,
 "nbformat_minor": 5
}
