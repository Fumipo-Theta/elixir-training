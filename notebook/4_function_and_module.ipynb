{
 "cells": [
  {
   "cell_type": "markdown",
   "id": "legislative-reconstruction",
   "metadata": {},
   "source": [
    "# Elixirの関数とモジュール\n",
    "\n",
    "関数には無名関数と名前付き関数があった。\n",
    "\n",
    "名前付き関数はモジュールに属する。"
   ]
  },
  {
   "cell_type": "code",
   "execution_count": null,
   "id": "center-disabled",
   "metadata": {},
   "outputs": [],
   "source": [
    "fn x, y -> x + y end"
   ]
  },
  {
   "cell_type": "code",
   "execution_count": null,
   "id": "illegal-filing",
   "metadata": {},
   "outputs": [],
   "source": [
    "defmodule MyMath do\n",
    "  def add(x, y) do\n",
    "    x + y\n",
    "  end\n",
    "  \n",
    "  def multiple(x, y) do\n",
    "    x * y\n",
    "  end\n",
    "end"
   ]
  },
  {
   "cell_type": "code",
   "execution_count": null,
   "id": "documentary-dealing",
   "metadata": {},
   "outputs": [],
   "source": [
    "MyMath.add(1, 2)"
   ]
  },
  {
   "cell_type": "code",
   "execution_count": null,
   "id": "antique-finding",
   "metadata": {},
   "outputs": [],
   "source": [
    "MyMath.multiple(2, 3)"
   ]
  },
  {
   "cell_type": "code",
   "execution_count": null,
   "id": "southwest-calgary",
   "metadata": {},
   "outputs": [],
   "source": []
  }
 ],
 "metadata": {
  "kernelspec": {
   "display_name": "Elixir",
   "language": "Elixir",
   "name": "ielixir"
  },
  "language_info": {
   "codemirror_mode": "elixir",
   "file_extension": "ex",
   "mimetype": "text/x-elixir",
   "name": "elixir",
   "nbconvert_exporter": "",
   "pygments_lexer": "elixir",
   "version": "1.11.2"
  }
 },
 "nbformat": 4,
 "nbformat_minor": 5
}
