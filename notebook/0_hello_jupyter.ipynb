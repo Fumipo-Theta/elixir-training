{
 "cells": [
  {
   "cell_type": "markdown",
   "id": "aggressive-chuck",
   "metadata": {},
   "source": [
    "# はじめに\n",
    "\n",
    "このnotebookは[Jupyter notebook](https://jupyter-notebook.readthedocs.io/en/stable/)に関するガイドラインです。\n",
    "\n",
    "Jupyter notebookでは, markdown, そしてコードとコードの実行結果を記録することができます。\n",
    "Notebookは\"cell\"と呼ばれる単位で区切って記述します。\n",
    "\n",
    "- Markdown cellとCode cellをよく使います\n",
    "- このセクションもcell(Markdown cell)です\n",
    "  - このcellをクリックして, 上のメニューバーのモードを見てください\n",
    "- cellをダブルクリックするとeditモードに切り替わります\n",
    "- `Shift` + `Enter`でmarkdown cellをレンダリング, またはcode cellを実行します\n",
    "- 試してみましょう"
   ]
  },
  {
   "cell_type": "code",
   "execution_count": null,
   "id": "dedicated-wichita",
   "metadata": {},
   "outputs": [],
   "source": [
    "# ここはCode cellです\n",
    "IO.puts \"Hello IElixir!\""
   ]
  },
  {
   "cell_type": "code",
   "execution_count": null,
   "id": "neither-ultimate",
   "metadata": {},
   "outputs": [],
   "source": []
  }
 ],
 "metadata": {
  "kernelspec": {
   "display_name": "Elixir",
   "language": "Elixir",
   "name": "ielixir"
  },
  "language_info": {
   "codemirror_mode": "elixir",
   "file_extension": "ex",
   "mimetype": "text/x-elixir",
   "name": "elixir",
   "nbconvert_exporter": "",
   "pygments_lexer": "elixir",
   "version": "1.11.2"
  }
 },
 "nbformat": 4,
 "nbformat_minor": 5
}
