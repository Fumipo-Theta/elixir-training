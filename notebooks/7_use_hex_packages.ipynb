{
 "cells": [
  {
   "cell_type": "markdown",
   "id": "prime-seventh",
   "metadata": {},
   "source": [
    "# Hexパッケージ\n",
    "\n",
    "Elixirには[Hex](https://hex.pm/)というパッケージマネージャーがある。\n",
    "\n",
    "Elixirでは`mix`というツールでプロジェクト管理をするのだが、[このように](https://hex.pm/docs/usage)プロジェクトの定義ファイルに依存パッケージを記述することでパッケージを利用可能になる。\n",
    "\n",
    "HexパッケージにはErlang向けのものもあるが、それらはElixirでも問題なく使用することができる。\n",
    "\n",
    "ここではnotebook上でいくつかのHexパッケージをインストールし、利用してみる。\n",
    "\n",
    "- [Jason](https://hexdocs.pm/jason/readme.html): 高速なJSONパーサー・ジェネレーター\n",
    "- [Croma](https://hexdocs.pm/croma/api-reference.html): Antikythera創始者の方が作成した、型ベースプログラミングのためのマクロ集\n",
    "- [meck](https://hexdocs.pm/meck/): Erlang向けのモッキングライブラリ\n",
    "\n",
    "[Antikythera](https://hexdocs.pm/antikythera/api-reference.html)もHexパッケージとして公開されている。\n",
    "(Jupyter notebook上で動作させることは難しいので、ここでは扱わない)"
   ]
  },
  {
   "cell_type": "markdown",
   "id": "public-large",
   "metadata": {},
   "source": [
    "## Jupyter notebook上での利用\n",
    "\n",
    "通常依存パッケージはmix projectで管理するが、ここでは動的にパッケージのインストールと利用を行うため、[Boyle](https://github.com/pprzetacznik/IElixir#package-management-with-boyle)というモジュールを利用する、\n",
    "\n",
    "あくまでもJupyter notebook上で動作させる場合に特有の事情である。"
   ]
  },
  {
   "cell_type": "code",
   "execution_count": 1,
   "id": "plastic-jacob",
   "metadata": {},
   "outputs": [
    {
     "name": "stdout",
     "output_type": "stream",
     "text": [
      "All dependencies are up to date\n",
      "All dependencies are up to date\n"
     ]
    },
    {
     "data": {
      "text/plain": [
       ":ok"
      ]
     },
     "execution_count": 1,
     "metadata": {},
     "output_type": "execute_result"
    }
   ],
   "source": [
    "Boyle.mk(\"training_env\")\n",
    "Boyle.activate(\"training_env\")\n",
    "# :ok が返ること"
   ]
  },
  {
   "cell_type": "code",
   "execution_count": 2,
   "id": "rapid-watson",
   "metadata": {},
   "outputs": [
    {
     "name": "stdout",
     "output_type": "stream",
     "text": [
      "Resolving Hex dependencies...\n",
      "Dependency resolution completed:\n",
      "Unchanged:\n",
      "  jason 1.2.2\n",
      "All dependencies are up to date\n",
      "Resolving Hex dependencies...\n",
      "Dependency resolution completed:\n",
      "Unchanged:\n",
      "  croma 0.10.2\n",
      "  jason 1.2.2\n",
      "All dependencies are up to date\n",
      "Resolving Hex dependencies...\n",
      "Dependency resolution completed:\n",
      "Unchanged:\n",
      "  certifi 2.6.1\n",
      "  croma 0.10.2\n",
      "  hackney 1.17.4\n",
      "  httpoison 1.8.0\n",
      "  idna 6.1.1\n",
      "  jason 1.2.2\n",
      "  metrics 1.0.1\n",
      "  mimerl 1.2.0\n",
      "  parse_trans 3.3.1\n",
      "  ssl_verify_fun 1.1.6\n",
      "  unicode_util_compat 0.7.0\n",
      "All dependencies are up to date\n",
      "===> Compiling parse_trans\n",
      "===> Compiling mimerl\n",
      "===> Compiling metrics\n",
      "===> Compiling unicode_util_compat\n",
      "===> Rebar3 detected a lock file from a newer version. It will be loaded in compatibility mode, but important information may be missing or lost. It is recommended to upgrade Rebar3.\n",
      "===> Compiling idna\n",
      "===> Compiling certifi\n",
      "===> Rebar3 detected a lock file from a newer version. It will be loaded in compatibility mode, but important information may be missing or lost. It is recommended to upgrade Rebar3.\n",
      "===> Compiling hackney\n",
      "Resolving Hex dependencies...\n",
      "Dependency resolution completed:\n",
      "Unchanged:\n",
      "  certifi 2.6.1\n",
      "  croma 0.10.2\n",
      "  hackney 1.17.4\n",
      "  httpoison 1.8.0\n",
      "  idna 6.1.1\n",
      "  jason 1.2.2\n",
      "  meck 0.9.2\n",
      "  metrics 1.0.1\n",
      "  mimerl 1.2.0\n",
      "  parse_trans 3.3.1\n",
      "  ssl_verify_fun 1.1.6\n",
      "  unicode_util_compat 0.7.0\n",
      "All dependencies are up to date\n",
      "===> Compiling parse_trans\n",
      "===> Compiling mimerl\n",
      "===> Compiling metrics\n",
      "===> Compiling unicode_util_compat\n",
      "===> Rebar3 detected a lock file from a newer version. It will be loaded in compatibility mode, but important information may be missing or lost. It is recommended to upgrade Rebar3.\n",
      "===> Compiling idna\n",
      "===> Compiling meck\n",
      "===> Compiling certifi\n",
      "===> Rebar3 detected a lock file from a newer version. It will be loaded in compatibility mode, but important information may be missing or lost. It is recommended to upgrade Rebar3.\n",
      "===> Compiling hackney\n"
     ]
    },
    {
     "data": {
      "text/plain": [
       ":ok"
      ]
     },
     "execution_count": 2,
     "metadata": {},
     "output_type": "execute_result"
    }
   ],
   "source": [
    "Boyle.install({:jason,     \"1.2.2\"})\n",
    "Boyle.install({:croma,     \"0.10.2\"})\n",
    "Boyle.install({:httpoison, \"1.8.0\"})\n",
    "Boyle.install({:meck,      \"0.9.2\"})\n",
    "# しばらく待って :ok が返ること"
   ]
  },
  {
   "cell_type": "markdown",
   "id": "cheap-wedding",
   "metadata": {},
   "source": [
    "### Jason\n",
    "\n",
    "- `Jason.decode/1` でJSON形式の文字列をElixirの値にパースする\n",
    "  - `Jason.decode!/1` はパースに失敗するとエラー\n",
    "- `Jason.encode/1` でElixirの値をJSON文字列にエンコードする\n",
    "  - `Jason.encode!/1` はエンコードに失敗するとエラー\n",
    "  \n",
    "WebサーバーではHTTPリクエストやレスポンスのbodyに対して適用することが多い。"
   ]
  },
  {
   "cell_type": "code",
   "execution_count": null,
   "id": "optical-store",
   "metadata": {},
   "outputs": [],
   "source": [
    "json = \"\"\"\n",
    "{\n",
    "  \"x\": 0,\n",
    "  \"y\": \"a\",\n",
    "  \"array\": [0, 1, 2],\n",
    "  \"nested\": {\n",
    "    \"inner\": {}\n",
    "  }\n",
    "}\n",
    "\"\"\"\n",
    "\n",
    "{:ok, map} = Jason.decode(json)\n",
    "IO.inspect map"
   ]
  },
  {
   "cell_type": "code",
   "execution_count": null,
   "id": "enclosed-rainbow",
   "metadata": {},
   "outputs": [],
   "source": [
    "File.read!(\"./resources/7/test.json\")\n",
    "|> Jason.decode!()"
   ]
  },
  {
   "cell_type": "code",
   "execution_count": null,
   "id": "pressed-summer",
   "metadata": {},
   "outputs": [],
   "source": [
    "{:error, reason} = Jason.decode(\"{[]}\")"
   ]
  },
  {
   "cell_type": "code",
   "execution_count": null,
   "id": "neural-stroke",
   "metadata": {},
   "outputs": [],
   "source": [
    "result = Jason.decode!(\"{[]}\")\n",
    "# => Jason.DecodeError"
   ]
  },
  {
   "cell_type": "code",
   "execution_count": null,
   "id": "tough-laser",
   "metadata": {},
   "outputs": [],
   "source": [
    "{:ok, json} = Jason.encode(%{a: 0})\n",
    "IO.puts json"
   ]
  },
  {
   "cell_type": "markdown",
   "id": "inclusive-edwards",
   "metadata": {},
   "source": [
    "### Croma\n",
    "\n",
    "- Elixirで型ベースプログラミングを行うのを楽にするマクロ集\n",
    "\n",
    "#### Structにおける利用例"
   ]
  },
  {
   "cell_type": "code",
   "execution_count": null,
   "id": "vocal-shoulder",
   "metadata": {},
   "outputs": [],
   "source": [
    "# 例1. フィールドのバリデーションつきStructを定義\n",
    "# new/1 または new!/1 関数を使ってStructを生成する時、フィールドのvalidationが自動で行われる\n",
    "\n",
    "\n",
    "defmodule TestStruct do\n",
    "  use Croma.Struct, recursive_new?: true, fields: [\n",
    "    x: Croma.Integer\n",
    "  ]\n",
    "end\n",
    "\n",
    "defmodule OtherStruct do\n",
    "  use Croma.Struct, recursive_new?: true, fields: [\n",
    "    x: Croma.Integer\n",
    "  ]\n",
    "end"
   ]
  },
  {
   "cell_type": "code",
   "execution_count": null,
   "id": "radical-entry",
   "metadata": {},
   "outputs": [],
   "source": [
    "TestStruct.new(%{x: 0})"
   ]
  },
  {
   "cell_type": "code",
   "execution_count": null,
   "id": "square-stone",
   "metadata": {},
   "outputs": [],
   "source": [
    "# xのvalueが整数ではないので失敗\n",
    "TestStruct.new(%{x: 1.0})"
   ]
  },
  {
   "cell_type": "code",
   "execution_count": null,
   "id": "controlling-texture",
   "metadata": {},
   "outputs": [],
   "source": [
    "# Structの種類を考慮したパターンマッチ\n",
    "%TestStruct{x: x} = TestStruct.new!(%{x: 0})\n",
    "IO.inspect x"
   ]
  },
  {
   "cell_type": "code",
   "execution_count": null,
   "id": "mineral-uganda",
   "metadata": {},
   "outputs": [],
   "source": [
    "# Cromaの使用に関わらず、異なるStructどうしはマッチしない\n",
    "%OtherStruct{x: x} = TestStruct.new!(%{x: 0})\n",
    "# => MatchError"
   ]
  },
  {
   "cell_type": "code",
   "execution_count": null,
   "id": "british-conservative",
   "metadata": {},
   "outputs": [],
   "source": [
    "# Structのフィールドをより詳細に定義する例\n",
    "\n",
    "defmodule Food do\n",
    "\n",
    "  # 特定のatomだけを指定\n",
    "  defmodule Category do\n",
    "    use Croma.SubtypeOfAtom,  values: [:meat, :vegitable, :fruit]\n",
    "  end\n",
    "  \n",
    "  # 正規表現で文字列のパターンを指定\n",
    "  defmodule Name do\n",
    "    use Croma.SubtypeOfString, pattern: ~r/\\A.{1,50}\\z/\n",
    "  end\n",
    "  \n",
    "  use Croma.Struct, recursive_new?: true, fields: [\n",
    "    category: Category,\n",
    "    name:     Name\n",
    "  ]\n",
    "end\n",
    "\n",
    "\n",
    "defmodule Eater do\n",
    "\n",
    "  # Food struct を引数に取る関数\n",
    "  def eat(%Food{category: category, name: name}) do\n",
    "    case category do\n",
    "      :vegitable -> \"I do not like #{name}, but I eat it...\"\n",
    "      _          -> \"I love #{name}!\"\n",
    "    end\n",
    "  end\n",
    "end"
   ]
  },
  {
   "cell_type": "code",
   "execution_count": null,
   "id": "literary-faith",
   "metadata": {},
   "outputs": [],
   "source": [
    "[\n",
    "  %{category: :meat,      name: \"pork\"},\n",
    "  %{category: :vegitable, name: \"tomato\"},\n",
    "  %{category: :fruit,     name: \"apple\"}\n",
    "]\n",
    "|> Enum.map(&Food.new!/1)\n",
    "|> Enum.map(&Eater.eat/1)"
   ]
  },
  {
   "cell_type": "code",
   "execution_count": null,
   "id": "comparative-istanbul",
   "metadata": {
    "scrolled": true
   },
   "outputs": [],
   "source": [
    "# nameの文字数が50より大きい場合にはエラー\n",
    "Food.new(%{category: :meat, name: \"this meat is something having too long name and we cannot pronounce it\"})"
   ]
  },
  {
   "cell_type": "code",
   "execution_count": null,
   "id": "statutory-gauge",
   "metadata": {},
   "outputs": [],
   "source": [
    "# nameの文字数が0の場合にエラーになることを確かめよう\n",
    "Food.new(%{})"
   ]
  },
  {
   "cell_type": "code",
   "execution_count": null,
   "id": "atomic-westminster",
   "metadata": {},
   "outputs": [],
   "source": [
    "# categoryに未定義のatomが渡される場合もエラーになることを確かめよう\n",
    "Food.new(%{})"
   ]
  },
  {
   "cell_type": "markdown",
   "id": "involved-frost",
   "metadata": {},
   "source": [
    "#### 関数定義における利用例\n",
    "\n",
    "こちらは参考までに。\n",
    "\n",
    "Cromaのマクロで関数の型スペックを簡潔に表したり、引数や返り値が期待した型であることのvalidationが可能。\n",
    "\n",
    "- `def`に代わる`defun`\n",
    "- `defp`に代わる`defunp`"
   ]
  },
  {
   "cell_type": "code",
   "execution_count": null,
   "id": "forty-discount",
   "metadata": {},
   "outputs": [],
   "source": [
    "defmodule CromaTestModule do\n",
    "  use Croma # Cromaが提供するマクロを利用するために必要\n",
    "  \n",
    "  @moduledoc \"\"\"\n",
    "  `defun`や`defunp`で引数に続けて`:: type`のように型を書く。\n",
    "  `v[]`で型を囲むと、ランタイム時に引数の型が仕様にあっていることのvalidationが行われる。\n",
    "  \n",
    "  返り値も同様に表現する。\n",
    "  \n",
    "  `defun`や`defunp`で多重定義する際は、無名関数の多重定義のような書き方をする必要がある。\n",
    "  \"\"\"\n",
    "  \n",
    "  @spec add(integer, integer) :: integer\n",
    "  def add(x, y) do\n",
    "    x + y\n",
    "  end\n",
    "  \n",
    "  defun add_integers(x :: v[integer], y :: v[integer]) :: v[integer] do\n",
    "    x + y\n",
    "  end\n",
    "  \n",
    "  defun add_integers_without_validation(x :: integer, y :: integer) :: integer do\n",
    "    x + y\n",
    "  end\n",
    "  \n",
    "  defun accept_hello_atom(value :: atom) :: Croma.Result.t(:hello, String.t) do\n",
    "    (:hello)     -> {:ok, :hello}\n",
    "    (other_atom) -> {:error, format_message(other_atom)}\n",
    "  end\n",
    "  \n",
    "  defunp format_message(value :: v[atom]) :: v[String.t] do\n",
    "    \"#{value} is not :hello atom\"\n",
    "  end\n",
    "end"
   ]
  },
  {
   "cell_type": "code",
   "execution_count": null,
   "id": "stuck-default",
   "metadata": {},
   "outputs": [],
   "source": [
    "CromaTestModule.add_integers(0, 1)"
   ]
  },
  {
   "cell_type": "code",
   "execution_count": null,
   "id": "current-fairy",
   "metadata": {},
   "outputs": [],
   "source": [
    "CromaTestModule.add_integers(0.0, 1)\n",
    "# => %RuntimeError{message: \"validation error: x is not a valid integer\"}"
   ]
  },
  {
   "cell_type": "code",
   "execution_count": null,
   "id": "liked-boards",
   "metadata": {},
   "outputs": [],
   "source": [
    "CromaTestModule.add_integers_without_validation(0.0, 1)"
   ]
  },
  {
   "cell_type": "code",
   "execution_count": null,
   "id": "valuable-charles",
   "metadata": {},
   "outputs": [],
   "source": [
    "IO.inspect CromaTestModule.accept_hello_atom(:hello)\n",
    "IO.inspect CromaTestModule.accept_hello_atom(:world)"
   ]
  },
  {
   "cell_type": "markdown",
   "id": "linear-agenda",
   "metadata": {},
   "source": [
    "### meck\n",
    "\n",
    "Erlangのモッキングライブラリ。\n",
    "\n",
    "モジュールの関数の振る舞いを動的に変えたり、呼び出し回数を計測したりできる。\n",
    "\n",
    "テストコードでよく使用される。"
   ]
  },
  {
   "cell_type": "markdown",
   "id": "stylish-ordinary",
   "metadata": {},
   "source": [
    "例えば外部サービスに依存する機能のテストを行いたいとき、モックを使用すると便利である。\n",
    "\n",
    "- 外部サービスがダウンしている時(HTTP status 500が返るとする)、その後の処理が期待どおりか確かめたい\n",
    "  - 外部サービスを実際にダウンさせることはできない\n",
    "- そもそもテストで、外部サービスにリクエストを送りたくない\n",
    "\n",
    "=> "
   ]
  },
  {
   "cell_type": "code",
   "execution_count": 3,
   "id": "formal-excellence",
   "metadata": {},
   "outputs": [
    {
     "name": "stdout",
     "output_type": "stream",
     "text": [
      "%{\n",
      "  body: %{\n",
      "    \"args\" => %{},\n",
      "    \"data\" => \"{\\\"foo\\\":\\\"bar\\\"}\",\n",
      "    \"files\" => %{},\n",
      "    \"form\" => %{},\n",
      "    \"headers\" => %{\n",
      "      \"Content-Length\" => \"13\",\n",
      "      \"Content-Type\" => \"application/json\",\n",
      "      \"Host\" => \"httpbin.org\",\n",
      "      \"User-Agent\" => \"hackney/1.17.4\",\n",
      "      \"X-Amzn-Trace-Id\" => \"Root=1-6114df4d-3754e3c4164d01dd49b77571\"\n",
      "    },\n",
      "    \"json\" => %{\"foo\" => \"bar\"},\n",
      "    \"origin\" => \"221.112.39.218\",\n",
      "    \"url\" => \"https://httpbin.org/post\"\n",
      "  },\n",
      "  status: 200\n",
      "}\n"
     ]
    },
    {
     "data": {
      "text/plain": [
       "%{body: %{\"args\" => %{}, \"data\" => \"{\\\"foo\\\":\\\"bar\\\"}\", \"files\" => %{}, \"form\" => %{}, \"headers\" => %{\"Content-Length\" => \"13\", \"Content-Type\" => \"application/json\", \"Host\" => \"httpbin.org\", \"User-Agent\" => \"hackney/1.17.4\", \"X-Amzn-Trace-Id\" => \"Root=1-6114df4d-3754e3c4164d01dd49b77571\"}, \"json\" => %{\"foo\" => \"bar\"}, \"origin\" => \"221.112.39.218\", \"url\" => \"https://httpbin.org/post\"}, status: 200}"
      ]
     },
     "execution_count": 3,
     "metadata": {},
     "output_type": "execute_result"
    }
   ],
   "source": [
    "defmodule Http do\n",
    "  # HTTPリクエストを行うための事前準備\n",
    "  HTTPoison.start\n",
    "  \n",
    "  def send_request(url, body_map, header_map) do\n",
    "    case HTTPoison.post!(url, Jason.encode!(body_map), header_map) do\n",
    "      %HTTPoison.Response{body: res_body, status_code: 200} -> %{status: 200, body: Jason.decode!(res_body)}\n",
    "      %HTTPoison.Response{status_code: 500}                 -> %{status: 500}\n",
    "      end\n",
    "  end\n",
    "end"
   ]
  },
  {
   "cell_type": "code",
   "execution_count": null,
   "id": "statistical-glossary",
   "metadata": {},
   "outputs": [],
   "source": [
    "IO.inspect Http.send_request(\"https://httpbin.org/post\", %{foo: \"bar\"}, %{\"Content-Type\" => \"application/json\"})"
   ]
  },
  {
   "cell_type": "markdown",
   "id": "matched-washer",
   "metadata": {},
   "source": [
    "`Http.send_request/3`を使用し、リクエスト先のサーバーがダウンしている状況を想定したテストをできるようにしたい。\n",
    "\n",
    "つまり、`Http.send_request/3`が常に`%{status: 500}`を返すようにしたい。\n",
    "\n",
    "しかしながら、実際にはテストのときだけ都合よくリクエスト先のサーバーをダウンさせることは不可能である。\n",
    "\n",
    "そもそも、テストの際外部サービスにリクエストを送りたくない。\n",
    "\n",
    "関数の振る舞いを、必要に応じて都合の良いように差し替えることができないだろうか?"
   ]
  },
  {
   "cell_type": "code",
   "execution_count": 21,
   "id": "drawn-dependence",
   "metadata": {},
   "outputs": [
    {
     "data": {
      "text/plain": [
       ":ok"
      ]
     },
     "execution_count": 21,
     "metadata": {},
     "output_type": "execute_result"
    }
   ],
   "source": [
    "# Erlangのモジュール名は、atomで表す決まりになっている => :meck\n",
    ":meck.new(Http, [:passthrough])"
   ]
  },
  {
   "cell_type": "code",
   "execution_count": 22,
   "id": "fallen-problem",
   "metadata": {},
   "outputs": [
    {
     "data": {
      "text/plain": [
       ":ok"
      ]
     },
     "execution_count": 22,
     "metadata": {},
     "output_type": "execute_result"
    }
   ],
   "source": [
    ":meck.expect(Http, :send_request, fn _url, _body, _header -> %{status: 500} end)"
   ]
  },
  {
   "cell_type": "code",
   "execution_count": 23,
   "id": "independent-white",
   "metadata": {},
   "outputs": [
    {
     "name": "stdout",
     "output_type": "stream",
     "text": [
      "%{status: 500}\n"
     ]
    },
    {
     "data": {
      "text/plain": [
       "%{status: 500}"
      ]
     },
     "execution_count": 23,
     "metadata": {},
     "output_type": "execute_result"
    }
   ],
   "source": [
    "Http.send_request(\"https://httpbin.org/post\", %{foo: \"bar\"}, %{\"Content-Type\" => \"application/json\"})"
   ]
  },
  {
   "cell_type": "markdown",
   "id": "adjusted-filing",
   "metadata": {},
   "source": [
    "`Http.send_request/3`の振る舞いが`fn _url, _body, _header -> %{status: 500} end`で指定した関数のものに差し替わったようだ!\n",
    "\n",
    "本当にそうなのか、さらに確かめてみよう。"
   ]
  },
  {
   "cell_type": "code",
   "execution_count": 27,
   "id": "relevant-shooting",
   "metadata": {},
   "outputs": [
    {
     "data": {
      "text/plain": [
       ":ok"
      ]
     },
     "execution_count": 27,
     "metadata": {},
     "output_type": "execute_result"
    }
   ],
   "source": [
    ":meck.expect(Http, :send_request, fn url, _body, _header ->\n",
    "  IO.puts \"Mocked function is called 😁\"\n",
    "  IO.puts \"Try to post to #{url}\"\n",
    "  %{status: 500}\n",
    "end)"
   ]
  },
  {
   "cell_type": "code",
   "execution_count": 28,
   "id": "textile-depression",
   "metadata": {},
   "outputs": [
    {
     "name": "stdout",
     "output_type": "stream",
     "text": [
      "Mocked function is called 😁\n",
      "Try to post to https://httpbin.org/post\n"
     ]
    },
    {
     "data": {
      "text/plain": [
       "%{status: 500}"
      ]
     },
     "execution_count": 28,
     "metadata": {},
     "output_type": "execute_result"
    }
   ],
   "source": [
    "Http.send_request(\"https://httpbin.org/post\", %{foo: \"bar\"}, %{\"Content-Type\" => \"application/json\"})"
   ]
  },
  {
   "cell_type": "markdown",
   "id": "administrative-drunk",
   "metadata": {},
   "source": [
    "😁"
   ]
  },
  {
   "cell_type": "markdown",
   "id": "frequent-reflection",
   "metadata": {},
   "source": [
    "![モックのイメージ](./resources/7/image_of_mocking.png)"
   ]
  },
  {
   "cell_type": "code",
   "execution_count": null,
   "id": "liked-provincial",
   "metadata": {},
   "outputs": [],
   "source": [
    "defmodule Hoge do\n",
    "  def add(x, y) do\n",
    "    IO.puts \"I am called.\"\n",
    "    x + y\n",
    "  end\n",
    "end\n",
    "\n",
    "Hoge.add(1, 2)"
   ]
  },
  {
   "cell_type": "code",
   "execution_count": null,
   "id": "hungry-sequence",
   "metadata": {},
   "outputs": [],
   "source": [
    "# Erlangのモジュール名は、atomで表す決まりになっている => :meck\n",
    ":meck.new(Hoge, [:passthrough])"
   ]
  },
  {
   "cell_type": "code",
   "execution_count": null,
   "id": "heated-breakdown",
   "metadata": {},
   "outputs": [],
   "source": [
    "# add関数の振る舞いを変える\n",
    "# atomで関数名を指定することに注意\n",
    ":meck.expect(Hoge, :add, fn(x, y) ->\n",
    "  IO.puts \"I am mocked.\"\n",
    "  x + y + 2 \n",
    "end)"
   ]
  },
  {
   "cell_type": "code",
   "execution_count": null,
   "id": "buried-walter",
   "metadata": {},
   "outputs": [],
   "source": [
    "Hoge.add(1, 2)"
   ]
  },
  {
   "cell_type": "code",
   "execution_count": null,
   "id": "affiliated-marks",
   "metadata": {},
   "outputs": [],
   "source": [
    ":meck.num_calls(Hoge, :add, 2)"
   ]
  },
  {
   "cell_type": "markdown",
   "id": "interracial-citizenship",
   "metadata": {},
   "source": [
    "`:meck.expect`はテストの際によく使う。\n",
    "\n",
    "- テスト中の現在日時を特定の値に固定する\n",
    "- 外部との通信を行う関数で、通信が成功した場合と失敗した場合をそれぞれ想定"
   ]
  },
  {
   "cell_type": "code",
   "execution_count": null,
   "id": "favorite-inside",
   "metadata": {},
   "outputs": [],
   "source": [
    "# モックしたモジュールを削除\n",
    ":meck.unload(Hoge)"
   ]
  }
 ],
 "metadata": {
  "kernelspec": {
   "display_name": "Elixir",
   "language": "Elixir",
   "name": "ielixir"
  },
  "language_info": {
   "codemirror_mode": "elixir",
   "file_extension": "ex",
   "mimetype": "text/x-elixir",
   "name": "elixir",
   "nbconvert_exporter": "",
   "pygments_lexer": "elixir",
   "version": "1.11.2"
  }
 },
 "nbformat": 4,
 "nbformat_minor": 5
}
